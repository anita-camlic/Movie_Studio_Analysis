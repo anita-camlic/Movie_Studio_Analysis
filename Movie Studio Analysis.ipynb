{
 "cells": [
  {
   "cell_type": "markdown",
   "metadata": {},
   "source": [
    "# Microsoft Movie Studios Data Analysis"
   ]
  },
  {
   "cell_type": "code",
   "execution_count": 1,
   "metadata": {},
   "outputs": [],
   "source": [
    "# Here is the template I am following for the final Jupyter Notebook: \n",
    "# Link: https://github.com/learn-co-curriculum/dsc-project-template/blob/example-aab/animal_shelter_needs_analysis.ipynb"
   ]
  },
  {
   "cell_type": "markdown",
   "metadata": {},
   "source": [
    "## Overview"
   ]
  },
  {
   "cell_type": "code",
   "execution_count": 2,
   "metadata": {},
   "outputs": [],
   "source": [
    "#overview of project goes here"
   ]
  },
  {
   "cell_type": "markdown",
   "metadata": {},
   "source": [
    "## Business Problem"
   ]
  },
  {
   "cell_type": "code",
   "execution_count": 3,
   "metadata": {},
   "outputs": [],
   "source": [
    "#business problem goes here"
   ]
  },
  {
   "cell_type": "markdown",
   "metadata": {},
   "source": [
    "# Importing Libraries & Specifying File Paths"
   ]
  },
  {
   "cell_type": "code",
   "execution_count": 4,
   "metadata": {},
   "outputs": [],
   "source": [
    "# Importing libraries\n",
    "import pandas as pd\n",
    "import numpy as np\n",
    "import matplotlib.pyplot as plt\n",
    "import sqlite3\n",
    "%matplotlib inline"
   ]
  },
  {
   "cell_type": "code",
   "execution_count": 5,
   "metadata": {},
   "outputs": [],
   "source": [
    "# Specifying all file paths in one centralized location.\n",
    "tn_budgets_file_path = '~/Documents/Flatiron/phase_1/Movie_Studio_DATA/tn.movie_budgets.csv.gz'\n",
    "imdb_file_path = './../Movie_Studio_DATA/im.db'\n",
    "movie_budget_file_path = '~/Documents/Flatiron/phase_1/Movie_Studio_DATA/tn.movie_budgets.csv.gz'\n",
    "microsoft_movie_studio_db_file_path = './../Movie_Studio_DATA/im.db'\n",
    "msms_db_conn = sqlite3.connect(microsoft_movie_studio_db_file_path)\n"
   ]
  },
  {
   "cell_type": "markdown",
   "metadata": {},
   "source": [
    "## Data Understanding"
   ]
  },
  {
   "cell_type": "markdown",
   "metadata": {},
   "source": [
    "Runtime Data Exploration"
   ]
  },
  {
   "cell_type": "code",
   "execution_count": 6,
   "metadata": {},
   "outputs": [],
   "source": [
    "#Loading in datasets for runtime analysis\n",
    "#Using pandas to create a dataframe from the tn.movie_budgets csv file\n",
    "tn_budgets_df = pd.read_csv(tn_budgets_file_path)"
   ]
  },
  {
   "cell_type": "code",
   "execution_count": 7,
   "metadata": {},
   "outputs": [
    {
     "data": {
      "text/html": [
       "<div>\n",
       "<style scoped>\n",
       "    .dataframe tbody tr th:only-of-type {\n",
       "        vertical-align: middle;\n",
       "    }\n",
       "\n",
       "    .dataframe tbody tr th {\n",
       "        vertical-align: top;\n",
       "    }\n",
       "\n",
       "    .dataframe thead th {\n",
       "        text-align: right;\n",
       "    }\n",
       "</style>\n",
       "<table border=\"1\" class=\"dataframe\">\n",
       "  <thead>\n",
       "    <tr style=\"text-align: right;\">\n",
       "      <th></th>\n",
       "      <th>id</th>\n",
       "      <th>release_date</th>\n",
       "      <th>movie</th>\n",
       "      <th>production_budget</th>\n",
       "      <th>domestic_gross</th>\n",
       "      <th>worldwide_gross</th>\n",
       "    </tr>\n",
       "  </thead>\n",
       "  <tbody>\n",
       "    <tr>\n",
       "      <th>0</th>\n",
       "      <td>1</td>\n",
       "      <td>Dec 18, 2009</td>\n",
       "      <td>Avatar</td>\n",
       "      <td>$425,000,000</td>\n",
       "      <td>$760,507,625</td>\n",
       "      <td>$2,776,345,279</td>\n",
       "    </tr>\n",
       "    <tr>\n",
       "      <th>1</th>\n",
       "      <td>2</td>\n",
       "      <td>May 20, 2011</td>\n",
       "      <td>Pirates of the Caribbean: On Stranger Tides</td>\n",
       "      <td>$410,600,000</td>\n",
       "      <td>$241,063,875</td>\n",
       "      <td>$1,045,663,875</td>\n",
       "    </tr>\n",
       "    <tr>\n",
       "      <th>2</th>\n",
       "      <td>3</td>\n",
       "      <td>Jun 7, 2019</td>\n",
       "      <td>Dark Phoenix</td>\n",
       "      <td>$350,000,000</td>\n",
       "      <td>$42,762,350</td>\n",
       "      <td>$149,762,350</td>\n",
       "    </tr>\n",
       "    <tr>\n",
       "      <th>3</th>\n",
       "      <td>4</td>\n",
       "      <td>May 1, 2015</td>\n",
       "      <td>Avengers: Age of Ultron</td>\n",
       "      <td>$330,600,000</td>\n",
       "      <td>$459,005,868</td>\n",
       "      <td>$1,403,013,963</td>\n",
       "    </tr>\n",
       "    <tr>\n",
       "      <th>4</th>\n",
       "      <td>5</td>\n",
       "      <td>Dec 15, 2017</td>\n",
       "      <td>Star Wars Ep. VIII: The Last Jedi</td>\n",
       "      <td>$317,000,000</td>\n",
       "      <td>$620,181,382</td>\n",
       "      <td>$1,316,721,747</td>\n",
       "    </tr>\n",
       "  </tbody>\n",
       "</table>\n",
       "</div>"
      ],
      "text/plain": [
       "   id  release_date                                        movie  \\\n",
       "0   1  Dec 18, 2009                                       Avatar   \n",
       "1   2  May 20, 2011  Pirates of the Caribbean: On Stranger Tides   \n",
       "2   3   Jun 7, 2019                                 Dark Phoenix   \n",
       "3   4   May 1, 2015                      Avengers: Age of Ultron   \n",
       "4   5  Dec 15, 2017            Star Wars Ep. VIII: The Last Jedi   \n",
       "\n",
       "  production_budget domestic_gross worldwide_gross  \n",
       "0      $425,000,000   $760,507,625  $2,776,345,279  \n",
       "1      $410,600,000   $241,063,875  $1,045,663,875  \n",
       "2      $350,000,000    $42,762,350    $149,762,350  \n",
       "3      $330,600,000   $459,005,868  $1,403,013,963  \n",
       "4      $317,000,000   $620,181,382  $1,316,721,747  "
      ]
     },
     "execution_count": 7,
     "metadata": {},
     "output_type": "execute_result"
    }
   ],
   "source": [
    "# ensuring that the file was loaded correctly\n",
    "tn_budgets_df.head()"
   ]
  },
  {
   "cell_type": "code",
   "execution_count": 8,
   "metadata": {},
   "outputs": [],
   "source": [
    "# creating a sqlite3 connection to be able to read in our SQL database \n",
    "conn = sqlite3.connect(imdb_file_path) \n",
    "\n",
    "# using pandas to read in our SQL database im.db\n",
    "# SELECT * because we need to see what tables are in this database\n",
    "imdb_db = pd.read_sql('''\n",
    "                               SELECT\n",
    "                               *\n",
    "                               FROM sqlite_master\n",
    "                               ''', conn)"
   ]
  },
  {
   "cell_type": "code",
   "execution_count": 9,
   "metadata": {},
   "outputs": [
    {
     "data": {
      "text/html": [
       "<div>\n",
       "<style scoped>\n",
       "    .dataframe tbody tr th:only-of-type {\n",
       "        vertical-align: middle;\n",
       "    }\n",
       "\n",
       "    .dataframe tbody tr th {\n",
       "        vertical-align: top;\n",
       "    }\n",
       "\n",
       "    .dataframe thead th {\n",
       "        text-align: right;\n",
       "    }\n",
       "</style>\n",
       "<table border=\"1\" class=\"dataframe\">\n",
       "  <thead>\n",
       "    <tr style=\"text-align: right;\">\n",
       "      <th></th>\n",
       "      <th>type</th>\n",
       "      <th>name</th>\n",
       "      <th>tbl_name</th>\n",
       "      <th>rootpage</th>\n",
       "      <th>sql</th>\n",
       "    </tr>\n",
       "  </thead>\n",
       "  <tbody>\n",
       "    <tr>\n",
       "      <th>0</th>\n",
       "      <td>table</td>\n",
       "      <td>movie_basics</td>\n",
       "      <td>movie_basics</td>\n",
       "      <td>2</td>\n",
       "      <td>CREATE TABLE \"movie_basics\" (\\n\"movie_id\" TEXT...</td>\n",
       "    </tr>\n",
       "    <tr>\n",
       "      <th>1</th>\n",
       "      <td>table</td>\n",
       "      <td>directors</td>\n",
       "      <td>directors</td>\n",
       "      <td>3</td>\n",
       "      <td>CREATE TABLE \"directors\" (\\n\"movie_id\" TEXT,\\n...</td>\n",
       "    </tr>\n",
       "    <tr>\n",
       "      <th>2</th>\n",
       "      <td>table</td>\n",
       "      <td>known_for</td>\n",
       "      <td>known_for</td>\n",
       "      <td>4</td>\n",
       "      <td>CREATE TABLE \"known_for\" (\\n\"person_id\" TEXT,\\...</td>\n",
       "    </tr>\n",
       "    <tr>\n",
       "      <th>3</th>\n",
       "      <td>table</td>\n",
       "      <td>movie_akas</td>\n",
       "      <td>movie_akas</td>\n",
       "      <td>5</td>\n",
       "      <td>CREATE TABLE \"movie_akas\" (\\n\"movie_id\" TEXT,\\...</td>\n",
       "    </tr>\n",
       "    <tr>\n",
       "      <th>4</th>\n",
       "      <td>table</td>\n",
       "      <td>movie_ratings</td>\n",
       "      <td>movie_ratings</td>\n",
       "      <td>6</td>\n",
       "      <td>CREATE TABLE \"movie_ratings\" (\\n\"movie_id\" TEX...</td>\n",
       "    </tr>\n",
       "    <tr>\n",
       "      <th>5</th>\n",
       "      <td>table</td>\n",
       "      <td>persons</td>\n",
       "      <td>persons</td>\n",
       "      <td>7</td>\n",
       "      <td>CREATE TABLE \"persons\" (\\n\"person_id\" TEXT,\\n ...</td>\n",
       "    </tr>\n",
       "    <tr>\n",
       "      <th>6</th>\n",
       "      <td>table</td>\n",
       "      <td>principals</td>\n",
       "      <td>principals</td>\n",
       "      <td>8</td>\n",
       "      <td>CREATE TABLE \"principals\" (\\n\"movie_id\" TEXT,\\...</td>\n",
       "    </tr>\n",
       "    <tr>\n",
       "      <th>7</th>\n",
       "      <td>table</td>\n",
       "      <td>writers</td>\n",
       "      <td>writers</td>\n",
       "      <td>9</td>\n",
       "      <td>CREATE TABLE \"writers\" (\\n\"movie_id\" TEXT,\\n  ...</td>\n",
       "    </tr>\n",
       "  </tbody>\n",
       "</table>\n",
       "</div>"
      ],
      "text/plain": [
       "    type           name       tbl_name  rootpage  \\\n",
       "0  table   movie_basics   movie_basics         2   \n",
       "1  table      directors      directors         3   \n",
       "2  table      known_for      known_for         4   \n",
       "3  table     movie_akas     movie_akas         5   \n",
       "4  table  movie_ratings  movie_ratings         6   \n",
       "5  table        persons        persons         7   \n",
       "6  table     principals     principals         8   \n",
       "7  table        writers        writers         9   \n",
       "\n",
       "                                                 sql  \n",
       "0  CREATE TABLE \"movie_basics\" (\\n\"movie_id\" TEXT...  \n",
       "1  CREATE TABLE \"directors\" (\\n\"movie_id\" TEXT,\\n...  \n",
       "2  CREATE TABLE \"known_for\" (\\n\"person_id\" TEXT,\\...  \n",
       "3  CREATE TABLE \"movie_akas\" (\\n\"movie_id\" TEXT,\\...  \n",
       "4  CREATE TABLE \"movie_ratings\" (\\n\"movie_id\" TEX...  \n",
       "5  CREATE TABLE \"persons\" (\\n\"person_id\" TEXT,\\n ...  \n",
       "6  CREATE TABLE \"principals\" (\\n\"movie_id\" TEXT,\\...  \n",
       "7  CREATE TABLE \"writers\" (\\n\"movie_id\" TEXT,\\n  ...  "
      ]
     },
     "execution_count": 9,
     "metadata": {},
     "output_type": "execute_result"
    }
   ],
   "source": [
    "# take a look at our dataframe to make sure it was read correctly\n",
    "imdb_db"
   ]
  },
  {
   "cell_type": "code",
   "execution_count": 10,
   "metadata": {},
   "outputs": [],
   "source": [
    "# Create a dataframe with the columns needed from the movie_basics table\n",
    "imdb_table = pd.read_sql('''\n",
    "                            SELECT\n",
    "                               movie_basics.movie_id, movie_basics.primary_title, movie_basics.runtime_minutes\n",
    "                               FROM movie_basics\n",
    "                               INNER JOIN movie_akas ON movie_basics.movie_id = movie_akas.movie_id\n",
    "                                WHERE is_original_title != 0.0\n",
    "                               ''', conn)"
   ]
  },
  {
   "cell_type": "code",
   "execution_count": 11,
   "metadata": {},
   "outputs": [
    {
     "data": {
      "text/html": [
       "<div>\n",
       "<style scoped>\n",
       "    .dataframe tbody tr th:only-of-type {\n",
       "        vertical-align: middle;\n",
       "    }\n",
       "\n",
       "    .dataframe tbody tr th {\n",
       "        vertical-align: top;\n",
       "    }\n",
       "\n",
       "    .dataframe thead th {\n",
       "        text-align: right;\n",
       "    }\n",
       "</style>\n",
       "<table border=\"1\" class=\"dataframe\">\n",
       "  <thead>\n",
       "    <tr style=\"text-align: right;\">\n",
       "      <th></th>\n",
       "      <th>movie_id</th>\n",
       "      <th>primary_title</th>\n",
       "      <th>runtime_minutes</th>\n",
       "    </tr>\n",
       "  </thead>\n",
       "  <tbody>\n",
       "    <tr>\n",
       "      <th>0</th>\n",
       "      <td>tt0369610</td>\n",
       "      <td>Jurassic World</td>\n",
       "      <td>124.0</td>\n",
       "    </tr>\n",
       "    <tr>\n",
       "      <th>1</th>\n",
       "      <td>tt0401729</td>\n",
       "      <td>John Carter</td>\n",
       "      <td>132.0</td>\n",
       "    </tr>\n",
       "    <tr>\n",
       "      <th>2</th>\n",
       "      <td>tt10010134</td>\n",
       "      <td>Versailles Rediscovered - The Sun King's Vanis...</td>\n",
       "      <td>52.0</td>\n",
       "    </tr>\n",
       "    <tr>\n",
       "      <th>3</th>\n",
       "      <td>tt10027708</td>\n",
       "      <td>Miguelito</td>\n",
       "      <td>94.0</td>\n",
       "    </tr>\n",
       "    <tr>\n",
       "      <th>4</th>\n",
       "      <td>tt10050722</td>\n",
       "      <td>Thing I Don't Get</td>\n",
       "      <td>71.0</td>\n",
       "    </tr>\n",
       "  </tbody>\n",
       "</table>\n",
       "</div>"
      ],
      "text/plain": [
       "     movie_id                                      primary_title  \\\n",
       "0   tt0369610                                     Jurassic World   \n",
       "1   tt0401729                                        John Carter   \n",
       "2  tt10010134  Versailles Rediscovered - The Sun King's Vanis...   \n",
       "3  tt10027708                                          Miguelito   \n",
       "4  tt10050722                                  Thing I Don't Get   \n",
       "\n",
       "   runtime_minutes  \n",
       "0            124.0  \n",
       "1            132.0  \n",
       "2             52.0  \n",
       "3             94.0  \n",
       "4             71.0  "
      ]
     },
     "execution_count": 11,
     "metadata": {},
     "output_type": "execute_result"
    }
   ],
   "source": [
    "# take a look at our dataframe to make sure it was read correctly\n",
    "imdb_table.head()"
   ]
  },
  {
   "cell_type": "markdown",
   "metadata": {},
   "source": [
    "Writer/Director Data Exploration"
   ]
  },
  {
   "cell_type": "code",
   "execution_count": 12,
   "metadata": {},
   "outputs": [],
   "source": [
    "# Writer/Director Data Understanding Starts:\n",
    "movie_basics_table = pd.read_sql('''\n",
    "                               SELECT \n",
    "                               movie_basics.movie_id,movie_basics.primary_title\n",
    "                               FROM movie_basics\n",
    "                               INNER JOIN movie_akas ON movie_basics.movie_id = movie_akas.movie_id\n",
    "                               WHERE is_original_title != 0.0\n",
    "                               ''', conn)"
   ]
  },
  {
   "cell_type": "code",
   "execution_count": 13,
   "metadata": {},
   "outputs": [
    {
     "data": {
      "text/html": [
       "<div>\n",
       "<style scoped>\n",
       "    .dataframe tbody tr th:only-of-type {\n",
       "        vertical-align: middle;\n",
       "    }\n",
       "\n",
       "    .dataframe tbody tr th {\n",
       "        vertical-align: top;\n",
       "    }\n",
       "\n",
       "    .dataframe thead th {\n",
       "        text-align: right;\n",
       "    }\n",
       "</style>\n",
       "<table border=\"1\" class=\"dataframe\">\n",
       "  <thead>\n",
       "    <tr style=\"text-align: right;\">\n",
       "      <th></th>\n",
       "      <th>movie_id</th>\n",
       "      <th>primary_title</th>\n",
       "    </tr>\n",
       "  </thead>\n",
       "  <tbody>\n",
       "    <tr>\n",
       "      <th>0</th>\n",
       "      <td>tt0369610</td>\n",
       "      <td>Jurassic World</td>\n",
       "    </tr>\n",
       "    <tr>\n",
       "      <th>1</th>\n",
       "      <td>tt0401729</td>\n",
       "      <td>John Carter</td>\n",
       "    </tr>\n",
       "    <tr>\n",
       "      <th>2</th>\n",
       "      <td>tt10010134</td>\n",
       "      <td>Versailles Rediscovered - The Sun King's Vanis...</td>\n",
       "    </tr>\n",
       "    <tr>\n",
       "      <th>3</th>\n",
       "      <td>tt10027708</td>\n",
       "      <td>Miguelito</td>\n",
       "    </tr>\n",
       "    <tr>\n",
       "      <th>4</th>\n",
       "      <td>tt10050722</td>\n",
       "      <td>Thing I Don't Get</td>\n",
       "    </tr>\n",
       "  </tbody>\n",
       "</table>\n",
       "</div>"
      ],
      "text/plain": [
       "     movie_id                                      primary_title\n",
       "0   tt0369610                                     Jurassic World\n",
       "1   tt0401729                                        John Carter\n",
       "2  tt10010134  Versailles Rediscovered - The Sun King's Vanis...\n",
       "3  tt10027708                                          Miguelito\n",
       "4  tt10050722                                  Thing I Don't Get"
      ]
     },
     "execution_count": 13,
     "metadata": {},
     "output_type": "execute_result"
    }
   ],
   "source": [
    "movie_basics_table.head()"
   ]
  },
  {
   "cell_type": "code",
   "execution_count": 14,
   "metadata": {},
   "outputs": [],
   "source": [
    "persons_table = pd.read_sql('''\n",
    "                               SELECT\n",
    "                               person_id,primary_name,death_year\n",
    "                               FROM persons\n",
    "                               ''', conn)"
   ]
  },
  {
   "cell_type": "code",
   "execution_count": 15,
   "metadata": {},
   "outputs": [
    {
     "data": {
      "text/html": [
       "<div>\n",
       "<style scoped>\n",
       "    .dataframe tbody tr th:only-of-type {\n",
       "        vertical-align: middle;\n",
       "    }\n",
       "\n",
       "    .dataframe tbody tr th {\n",
       "        vertical-align: top;\n",
       "    }\n",
       "\n",
       "    .dataframe thead th {\n",
       "        text-align: right;\n",
       "    }\n",
       "</style>\n",
       "<table border=\"1\" class=\"dataframe\">\n",
       "  <thead>\n",
       "    <tr style=\"text-align: right;\">\n",
       "      <th></th>\n",
       "      <th>person_id</th>\n",
       "      <th>primary_name</th>\n",
       "      <th>death_year</th>\n",
       "    </tr>\n",
       "  </thead>\n",
       "  <tbody>\n",
       "    <tr>\n",
       "      <th>0</th>\n",
       "      <td>nm0061671</td>\n",
       "      <td>Mary Ellen Bauder</td>\n",
       "      <td>NaN</td>\n",
       "    </tr>\n",
       "    <tr>\n",
       "      <th>1</th>\n",
       "      <td>nm0061865</td>\n",
       "      <td>Joseph Bauer</td>\n",
       "      <td>NaN</td>\n",
       "    </tr>\n",
       "    <tr>\n",
       "      <th>2</th>\n",
       "      <td>nm0062070</td>\n",
       "      <td>Bruce Baum</td>\n",
       "      <td>NaN</td>\n",
       "    </tr>\n",
       "    <tr>\n",
       "      <th>3</th>\n",
       "      <td>nm0062195</td>\n",
       "      <td>Axel Baumann</td>\n",
       "      <td>NaN</td>\n",
       "    </tr>\n",
       "    <tr>\n",
       "      <th>4</th>\n",
       "      <td>nm0062798</td>\n",
       "      <td>Pete Baxter</td>\n",
       "      <td>NaN</td>\n",
       "    </tr>\n",
       "  </tbody>\n",
       "</table>\n",
       "</div>"
      ],
      "text/plain": [
       "   person_id       primary_name  death_year\n",
       "0  nm0061671  Mary Ellen Bauder         NaN\n",
       "1  nm0061865       Joseph Bauer         NaN\n",
       "2  nm0062070         Bruce Baum         NaN\n",
       "3  nm0062195       Axel Baumann         NaN\n",
       "4  nm0062798        Pete Baxter         NaN"
      ]
     },
     "execution_count": 15,
     "metadata": {},
     "output_type": "execute_result"
    }
   ],
   "source": [
    "persons_table.head()"
   ]
  },
  {
   "cell_type": "code",
   "execution_count": 16,
   "metadata": {},
   "outputs": [],
   "source": [
    "writers_table = pd.read_sql('''\n",
    "                               SELECT\n",
    "                               *\n",
    "                               FROM writers\n",
    "                               ''', conn)"
   ]
  },
  {
   "cell_type": "code",
   "execution_count": 17,
   "metadata": {},
   "outputs": [
    {
     "data": {
      "text/html": [
       "<div>\n",
       "<style scoped>\n",
       "    .dataframe tbody tr th:only-of-type {\n",
       "        vertical-align: middle;\n",
       "    }\n",
       "\n",
       "    .dataframe tbody tr th {\n",
       "        vertical-align: top;\n",
       "    }\n",
       "\n",
       "    .dataframe thead th {\n",
       "        text-align: right;\n",
       "    }\n",
       "</style>\n",
       "<table border=\"1\" class=\"dataframe\">\n",
       "  <thead>\n",
       "    <tr style=\"text-align: right;\">\n",
       "      <th></th>\n",
       "      <th>movie_id</th>\n",
       "      <th>person_id</th>\n",
       "    </tr>\n",
       "  </thead>\n",
       "  <tbody>\n",
       "    <tr>\n",
       "      <th>0</th>\n",
       "      <td>tt0285252</td>\n",
       "      <td>nm0899854</td>\n",
       "    </tr>\n",
       "    <tr>\n",
       "      <th>1</th>\n",
       "      <td>tt0438973</td>\n",
       "      <td>nm0175726</td>\n",
       "    </tr>\n",
       "    <tr>\n",
       "      <th>2</th>\n",
       "      <td>tt0438973</td>\n",
       "      <td>nm1802864</td>\n",
       "    </tr>\n",
       "    <tr>\n",
       "      <th>3</th>\n",
       "      <td>tt0462036</td>\n",
       "      <td>nm1940585</td>\n",
       "    </tr>\n",
       "    <tr>\n",
       "      <th>4</th>\n",
       "      <td>tt0835418</td>\n",
       "      <td>nm0310087</td>\n",
       "    </tr>\n",
       "  </tbody>\n",
       "</table>\n",
       "</div>"
      ],
      "text/plain": [
       "    movie_id  person_id\n",
       "0  tt0285252  nm0899854\n",
       "1  tt0438973  nm0175726\n",
       "2  tt0438973  nm1802864\n",
       "3  tt0462036  nm1940585\n",
       "4  tt0835418  nm0310087"
      ]
     },
     "execution_count": 17,
     "metadata": {},
     "output_type": "execute_result"
    }
   ],
   "source": [
    "writers_table.head()"
   ]
  },
  {
   "cell_type": "code",
   "execution_count": null,
   "metadata": {},
   "outputs": [],
   "source": [
    "writers_df = pd.merge(writers_table, persons_table,left_on='person_id',right_on='person_id')"
   ]
  },
  {
   "cell_type": "code",
   "execution_count": null,
   "metadata": {},
   "outputs": [],
   "source": [
    "writers_df.head()"
   ]
  },
  {
   "cell_type": "code",
   "execution_count": null,
   "metadata": {},
   "outputs": [],
   "source": [
    "writers_df = pd.merge(writers_df,movie_basics_table,left_on='movie_id',right_on='movie_id')"
   ]
  },
  {
   "cell_type": "code",
   "execution_count": null,
   "metadata": {},
   "outputs": [],
   "source": [
    "writers_df.head()"
   ]
  },
  {
   "cell_type": "code",
   "execution_count": null,
   "metadata": {},
   "outputs": [],
   "source": [
    "writers_df = pd.merge(tn_budgets_df,writers_df, how='inner',left_on='movie',right_on='primary_title')"
   ]
  },
  {
   "cell_type": "code",
   "execution_count": null,
   "metadata": {},
   "outputs": [],
   "source": [
    "directors_table = pd.read_sql('''\n",
    "                               SELECT\n",
    "                               *\n",
    "                               FROM directors\n",
    "                               ''', conn)"
   ]
  },
  {
   "cell_type": "code",
   "execution_count": null,
   "metadata": {},
   "outputs": [],
   "source": [
    "directors_table.head()"
   ]
  },
  {
   "cell_type": "code",
   "execution_count": null,
   "metadata": {},
   "outputs": [],
   "source": [
    "directors_df = pd.merge(directors_table, persons_table,left_on='person_id',right_on='person_id')"
   ]
  },
  {
   "cell_type": "code",
   "execution_count": null,
   "metadata": {},
   "outputs": [],
   "source": [
    "directors_df = pd.merge(directors_df,movie_basics_table,left_on='movie_id',right_on='movie_id')"
   ]
  },
  {
   "cell_type": "code",
   "execution_count": null,
   "metadata": {},
   "outputs": [],
   "source": [
    "directors_df.head()"
   ]
  },
  {
   "cell_type": "code",
   "execution_count": null,
   "metadata": {},
   "outputs": [],
   "source": [
    "directors_df = pd.merge(tn_budgets_df,directors_df, how='inner',left_on='movie',right_on='primary_title')"
   ]
  },
  {
   "cell_type": "markdown",
   "metadata": {},
   "source": [
    "Genre Data Exploration"
   ]
  },
  {
   "cell_type": "code",
   "execution_count": null,
   "metadata": {},
   "outputs": [],
   "source": [
    "#reading in movie budget csv for outcome data\n",
    "movie_budget_df = pd.read_csv(movie_budget_file_path)\n",
    "#check to see if read properly\n",
    "movie_budget_df.head()"
   ]
  },
  {
   "cell_type": "code",
   "execution_count": null,
   "metadata": {},
   "outputs": [],
   "source": [
    "#execute SQL query to obtain a dataframe with movie names and avg ratings, filtered for original titles\n",
    "genre_query = \"\"\"\n",
    "SELECT movie_basics.primary_title, movie_basics.start_year, movie_basics.genres\n",
    "FROM movie_basics\n",
    "INNER JOIN movie_akas ON movie_basics.movie_id = movie_akas.movie_id\n",
    "WHERE is_original_title != 0.0\n",
    "\"\"\"\n",
    "\n",
    "filtered_genre_info_df = pd.read_sql(genre_query, msms_db_conn)\n",
    "\n",
    "#check query results\n",
    "filtered_genre_info_df"
   ]
  },
  {
   "cell_type": "code",
   "execution_count": null,
   "metadata": {},
   "outputs": [],
   "source": [
    "#attempt to merge genre data with budget data for comparison of dependent/independent variables\n",
    "genre_budget_df = pd.merge(filtered_genre_info_df, \n",
    "                                  movie_budget_df, \n",
    "                                  how='inner', \n",
    "                                  left_on='primary_title', \n",
    "                                  right_on='movie' )\n",
    "genre_budget_df"
   ]
  },
  {
   "cell_type": "code",
   "execution_count": null,
   "metadata": {},
   "outputs": [],
   "source": [
    "#Identified a number of duplicate entries\n",
    "genre_budget_df[\"primary_title\"].value_counts()"
   ]
  },
  {
   "cell_type": "markdown",
   "metadata": {},
   "source": [
    "# Data cleaning and preparation"
   ]
  },
  {
   "cell_type": "markdown",
   "metadata": {},
   "source": [
    "Runtime Data Cleaning:"
   ]
  },
  {
   "cell_type": "code",
   "execution_count": null,
   "metadata": {},
   "outputs": [],
   "source": [
    "# Cleaning the production_budget column by removing all of the commas and the dollar sign then converting the \n",
    "# value to a float\n",
    "tn_budgets_df['production_budget_float'] = tn_budgets_df['production_budget'].str.replace(\",\",\"\")\n",
    "tn_budgets_df['production_budget_float'] = tn_budgets_df['production_budget_float'].str[1:]\n",
    "tn_budgets_df['production_budget_float'] = tn_budgets_df['production_budget_float'].astype(float)"
   ]
  },
  {
   "cell_type": "code",
   "execution_count": null,
   "metadata": {},
   "outputs": [],
   "source": [
    "# Cleaning the domestic_gross column by removing all of the commas and the dollar sign then converting the \n",
    "# value to a float\n",
    "tn_budgets_df['domestic_gross_float'] = tn_budgets_df['domestic_gross'].str.replace(\",\",\"\")\n",
    "tn_budgets_df['domestic_gross_float'] = tn_budgets_df['domestic_gross_float'].str[1:]\n",
    "tn_budgets_df['domestic_gross_float'] = tn_budgets_df['domestic_gross_float'].astype(float)"
   ]
  },
  {
   "cell_type": "code",
   "execution_count": null,
   "metadata": {},
   "outputs": [],
   "source": [
    "# Cleaning the worldwide_gross column by removing all of the commas and the dollar sign then converting the \n",
    "# value to a float\n",
    "tn_budgets_df['worldwide_gross_float'] = tn_budgets_df['worldwide_gross'].str.replace(\",\",\"\")\n",
    "tn_budgets_df['worldwide_gross_float'] = tn_budgets_df['worldwide_gross_float'].str[1:]\n",
    "tn_budgets_df['worldwide_gross_float'] = tn_budgets_df['worldwide_gross_float'].astype(float)"
   ]
  },
  {
   "cell_type": "code",
   "execution_count": null,
   "metadata": {},
   "outputs": [],
   "source": [
    "# Deleting all the rows that have a value of zero in the columns 'production_budget_float','worldwide_gross_float' \n",
    "# or 'domestic_gross_float'\n",
    "tn_budgets_df = tn_budgets_df[tn_budgets_df['production_budget_float'] != 0]\n",
    "tn_budgets_df = tn_budgets_df[tn_budgets_df['worldwide_gross_float'] != 0]\n",
    "tn_budgets_df = tn_budgets_df[tn_budgets_df['domestic_gross_float'] != 0]\n",
    "\n",
    "#sanity check\n",
    "#tn_budgets_df.loc[tn_budgets_df['domestic_gross_float'] == 0]\n",
    "#tn_budgets_df.loc[tn_budgets_df['worldwide_gross_float'] == 0]\n",
    "#tn_budgets_df.loc[tn_budgets_df['production_budget_float'] == 0]"
   ]
  },
  {
   "cell_type": "code",
   "execution_count": null,
   "metadata": {},
   "outputs": [],
   "source": [
    "# creating a new column named 'net_income' that is equal to the worldwide gross minus the production budget\n",
    "tn_budgets_df['net_income'] = tn_budgets_df['worldwide_gross_float'] - tn_budgets_df['production_budget_float']"
   ]
  },
  {
   "cell_type": "code",
   "execution_count": null,
   "metadata": {},
   "outputs": [],
   "source": [
    "# Taking a look at tn_budgets_df\n",
    "tn_budgets_df.head()"
   ]
  },
  {
   "cell_type": "code",
   "execution_count": null,
   "metadata": {},
   "outputs": [],
   "source": [
    "# Joining the data frams 'tn_budgets_df and 'imdb_table' on the movie title\n",
    "title_and_revenue_df = pd.merge(tn_budgets_df, imdb_table,left_on='movie',right_on='primary_title')\n",
    "title_and_revenue_df.head()"
   ]
  },
  {
   "cell_type": "code",
   "execution_count": null,
   "metadata": {},
   "outputs": [],
   "source": [
    "# Here I am dropping all the rows in our dataframe where 'net_income' is NAN\n",
    "title_and_revenue_df = title_and_revenue_df.dropna(subset=['net_income'])\n",
    "\n",
    "# Here I am dropping all the duplicates\n",
    "title_and_revenue_df = title_and_revenue_df.drop_duplicates(subset='movie')\n",
    "\n",
    "#sanity checks\n",
    "#title_and_revenue_df['movie'].value_counts()\n",
    "#title_and_revenue_df['movie'].isnull().sum()"
   ]
  },
  {
   "cell_type": "markdown",
   "metadata": {},
   "source": [
    "Director/Writer Data Cleaning:"
   ]
  },
  {
   "cell_type": "code",
   "execution_count": null,
   "metadata": {},
   "outputs": [],
   "source": [
    "#Director/Writer Data Cleaning and Preparation Start:\n",
    "# Here I am dropping all the rows in our dataframe where 'movie' is NAN\n",
    "writers_df = writers_df.dropna(subset=['movie'])\n",
    "\n",
    "# Here I am dropping all the duplicates\n",
    "writers_df = writers_df.drop_duplicates(subset='movie')\n",
    "\n",
    "#sanity checks\n",
    "#writers_df['movie'].value_counts()\n",
    "#writers_df['movie'].isnull().sum()\n"
   ]
  },
  {
   "cell_type": "code",
   "execution_count": null,
   "metadata": {},
   "outputs": [],
   "source": [
    "# Need to ensure that the writers are still alive\n",
    "# Dropping all rows where death_year != Nan\n",
    "writers_df = writers_df.loc[writers_df['death_year'].isna()]"
   ]
  },
  {
   "cell_type": "code",
   "execution_count": null,
   "metadata": {},
   "outputs": [],
   "source": [
    "print(len(writers_df))\n",
    "print(writers_df['death_year'].isna().sum())"
   ]
  },
  {
   "cell_type": "code",
   "execution_count": null,
   "metadata": {},
   "outputs": [],
   "source": [
    "new_writers = writers_df.groupby(by=['primary_name'],as_index=False).mean()"
   ]
  },
  {
   "cell_type": "code",
   "execution_count": null,
   "metadata": {},
   "outputs": [],
   "source": [
    "new_writers = new_writers.sort_values(by=['net_income'],ascending=False)\n",
    "new_writers.head()\n",
    "new_writers = new_writers[:10]"
   ]
  },
  {
   "cell_type": "code",
   "execution_count": null,
   "metadata": {},
   "outputs": [],
   "source": [
    "# Here I am dropping all the rows in our dataframe where 'movie' is NAN\n",
    "directors_df = directors_df.dropna(subset=['movie'])\n",
    "\n",
    "# Here I am dropping all the duplicates\n",
    "directors_df = directors_df.drop_duplicates(subset='movie')\n",
    "\n",
    "#sanity checks\n",
    "#directors_df['movie'].value_counts()\n",
    "#directors_df['movie'].isnull().sum()"
   ]
  },
  {
   "cell_type": "code",
   "execution_count": null,
   "metadata": {},
   "outputs": [],
   "source": [
    "# Need to ensure that the directors are still alive\n",
    "# Dropping all rows where death_year != Nan\n",
    "directors_df = directors_df.loc[directors_df['death_year'].isna()]"
   ]
  },
  {
   "cell_type": "code",
   "execution_count": null,
   "metadata": {},
   "outputs": [],
   "source": [
    "print(len(directors_df))\n",
    "print(directors_df['death_year'].isna().sum())"
   ]
  },
  {
   "cell_type": "code",
   "execution_count": null,
   "metadata": {},
   "outputs": [],
   "source": [
    "new_directors = directors_df.groupby(by=['primary_name'],as_index=False).mean()"
   ]
  },
  {
   "cell_type": "code",
   "execution_count": null,
   "metadata": {},
   "outputs": [],
   "source": [
    "new_directors.head()"
   ]
  },
  {
   "cell_type": "code",
   "execution_count": null,
   "metadata": {},
   "outputs": [],
   "source": [
    "new_directors = new_directors.sort_values(by=['net_income'],ascending=False)\n",
    "new_directors = new_directors[:10]\n",
    "new_directors.head()"
   ]
  },
  {
   "cell_type": "markdown",
   "metadata": {},
   "source": [
    "Genre Data Cleaning:"
   ]
  },
  {
   "cell_type": "code",
   "execution_count": null,
   "metadata": {},
   "outputs": [],
   "source": [
    "#Removing duplicate entries\n",
    "genre_budget_df.drop_duplicates(subset=\"primary_title\", inplace=True)\n",
    "genre_budget_df"
   ]
  },
  {
   "cell_type": "code",
   "execution_count": null,
   "metadata": {},
   "outputs": [],
   "source": [
    "#removing special characters from columns for conversion to numeric data type\n",
    "genre_budget_df['production_budget'] = genre_budget_df['production_budget'].replace(\",\",\"\",regex=True)\n",
    "genre_budget_df['production_budget'] = genre_budget_df['production_budget'].str.replace(\"$\",\"\",regex=True)\n",
    "\n",
    "genre_budget_df['domestic_gross'] = genre_budget_df['domestic_gross'].replace(\",\",\"\",regex=True)\n",
    "genre_budget_df['domestic_gross'] = genre_budget_df['domestic_gross'].str.replace(\"$\",\"\",regex=True)\n",
    "\n",
    "genre_budget_df['worldwide_gross'] = genre_budget_df['worldwide_gross'].replace(\",\",\"\",regex=True)\n",
    "genre_budget_df['worldwide_gross'] = genre_budget_df['worldwide_gross'].str.replace(\"$\",\"\",regex=True)\n",
    "\n",
    "#check replacement\n",
    "genre_budget_df.head()"
   ]
  },
  {
   "cell_type": "code",
   "execution_count": null,
   "metadata": {},
   "outputs": [],
   "source": [
    "#convert money columns to floating point values\n",
    "genre_budget_df['production_budget'] = genre_budget_df['production_budget'].astype(float)\n",
    "genre_budget_df['domestic_gross'] = genre_budget_df['domestic_gross'].astype(float)\n",
    "genre_budget_df['worldwide_gross'] = genre_budget_df['worldwide_gross'].astype(float)"
   ]
  },
  {
   "cell_type": "code",
   "execution_count": null,
   "metadata": {},
   "outputs": [],
   "source": [
    "#remove rows with non-null-type null values\n",
    "genre_budget_df = genre_budget_df[genre_budget_df['production_budget'] != 0] \n",
    "genre_budget_df = genre_budget_df[genre_budget_df['domestic_gross'] != 0]\n",
    "genre_budget_df = genre_budget_df[genre_budget_df['worldwide_gross'] != 0]\n",
    "#reevaluate the data\n",
    "genre_budget_df"
   ]
  },
  {
   "cell_type": "code",
   "execution_count": null,
   "metadata": {},
   "outputs": [],
   "source": [
    "#create singular genres column, split genre strings along comma delimiter, \n",
    "#and return a column storing a list of genres stored as string values\n",
    "genre_budget_df['singular_genres'] = genre_budget_df[\"genres\"].str.split(\",\")"
   ]
  },
  {
   "cell_type": "code",
   "execution_count": null,
   "metadata": {},
   "outputs": [],
   "source": [
    "#create new dataframe containing exploded singular genres as new rows\n",
    "little_boy_df = genre_budget_df.explode(\"singular_genres\")"
   ]
  },
  {
   "cell_type": "code",
   "execution_count": null,
   "metadata": {},
   "outputs": [],
   "source": [
    "#add columns for foreign gross revenues, as well as net domestic, total, and foreign profits.\n",
    "little_boy_df[\"foreign_market_gross\"] = little_boy_df[\"worldwide_gross\"] - little_boy_df[\"domestic_gross\"]\n",
    "little_boy_df[\"domestic_net\"] = little_boy_df[\"domestic_gross\"] - little_boy_df[\"production_budget\"]\n",
    "little_boy_df[\"worldwide_net\"] = little_boy_df[\"worldwide_gross\"] - little_boy_df[\"production_budget\"]\n",
    "little_boy_df[\"foreign_market_net\"] = little_boy_df[\"foreign_market_gross\"] - little_boy_df[\"production_budget\"]"
   ]
  },
  {
   "cell_type": "markdown",
   "metadata": {},
   "source": [
    "# Analysis"
   ]
  },
  {
   "cell_type": "markdown",
   "metadata": {},
   "source": [
    "Runtime Analysis"
   ]
  },
  {
   "cell_type": "code",
   "execution_count": null,
   "metadata": {},
   "outputs": [],
   "source": [
    "# Here I am taking a look at the minimum & maximum values in the 'runtime_minutes' column\n",
    "max_runtime = title_and_revenue_df['runtime_minutes'].max()\n",
    "min_runtime = title_and_revenue_df['runtime_minutes'].min()\n",
    "\n",
    "# Here I am creating a new series named run_time and sorting it, and taking a look at the min and max values\n",
    "run_time = title_and_revenue_df['runtime_minutes']\n",
    "run_time = run_time.sort_values(ascending=True)\n",
    "print(run_time.head(10))\n",
    "print(min_runtime,max_runtime)\n"
   ]
  },
  {
   "cell_type": "code",
   "execution_count": null,
   "metadata": {},
   "outputs": [],
   "source": [
    "fig, ax = plt.subplots(figsize=(7,5))\n",
    "ax.scatter(x = title_and_revenue_df['runtime_minutes'],y = title_and_revenue_df['net_income'])\n",
    "ax.set_xlabel('Runtime in Minutes')\n",
    "ax.set_ylabel('Net Income for Movie')\n",
    "ax.set_title('Runtime vs Net Income')\n",
    "#plt.scatter(title_and_revenue_df['runtime_minutes'],title_and_revenue_df['gross_revenue']);"
   ]
  },
  {
   "cell_type": "code",
   "execution_count": null,
   "metadata": {},
   "outputs": [],
   "source": [
    "# Here I am taking a look at the rows where there wasa net loss\n",
    "title_and_revenue_df.loc[title_and_revenue_df['net_income'] < 0]"
   ]
  },
  {
   "cell_type": "code",
   "execution_count": null,
   "metadata": {},
   "outputs": [],
   "source": [
    "title_and_revenue_df.describe()"
   ]
  },
  {
   "cell_type": "code",
   "execution_count": null,
   "metadata": {},
   "outputs": [],
   "source": [
    "#binning by standard deviation, which you can see above - 18 minutes\n",
    "\n",
    "def length(val):\n",
    "    if val <= 18:\n",
    "        return \">= 18 minutes\"\n",
    "    elif (val > 18) and (val <= 36):\n",
    "        return \"18 to 36 minutes\"\n",
    "    elif(val > 36) and (val <= 54):\n",
    "        return \"36 minutes to 54 minutes\"\n",
    "    elif (val > 54) and (val <= 72):\n",
    "        return \"54 minutes to 72 minutes\"\n",
    "    elif (val > 72) and (val <= 90):\n",
    "        return \"72 minutes to 90 minutes\"\n",
    "    elif (val > 90) and (val <= 108):\n",
    "        return \"90 minutes to 108 minutes\"\n",
    "    elif (val > 108) and (val <= 126):\n",
    "        return \"108 minutes to 126 minutes\"\n",
    "    elif (val > 126) and (val <= 144):\n",
    "        return \"126 minutes to 144 minutes\"\n",
    "    elif (val > 144) and (val <= 162):\n",
    "        return \"144 minutes to 162 minutes\"\n",
    "    elif (val > 162) and (val <= 180):\n",
    "        return \"162 minutes to 180 minutes\""
   ]
  },
  {
   "cell_type": "code",
   "execution_count": null,
   "metadata": {},
   "outputs": [],
   "source": [
    "# mapping runtime minutes to bins\n",
    "title_and_revenue_df['runtime_minutes_binned'] = title_and_revenue_df['runtime_minutes'].map(length)"
   ]
  },
  {
   "cell_type": "code",
   "execution_count": null,
   "metadata": {},
   "outputs": [],
   "source": [
    "new_df = title_and_revenue_df.groupby(by=['runtime_minutes_binned'],as_index=False).mean()\n",
    "new_df = new_df.sort_values(by='net_income',ascending=False)"
   ]
  },
  {
   "cell_type": "code",
   "execution_count": null,
   "metadata": {},
   "outputs": [],
   "source": [
    "#plot these bins\n",
    "fig,ax = plt.subplots(figsize = (10,10))\n",
    "ax.bar(new_df['runtime_minutes_binned'],new_df['net_income'],color='blue')\n",
    "ax.set_xlabel('Runtime (minutes)')\n",
    "ax.set_ylabel('Total Net Sales (100 Millions USD)')\n",
    "ax.set_title('Runtime (minutes) vs.Total Net Sales (100 Millions USD)')\n",
    "plt.xticks(rotation=90);"
   ]
  },
  {
   "cell_type": "markdown",
   "metadata": {},
   "source": [
    "Director/Writer Analysis"
   ]
  },
  {
   "cell_type": "code",
   "execution_count": null,
   "metadata": {},
   "outputs": [],
   "source": [
    "#Director/Writer Analysis Start:\n",
    "fig,ax = plt.subplots(figsize=(17,5))\n",
    "ax.bar(new_writers['primary_name'],new_writers['net_income'],color='blue')\n",
    "ax.set_xlabel('Writer')\n",
    "ax.set_ylabel('Average Movie Net Income (100 Millions USD)')\n",
    "ax.set_title('Top 10 Writers by Average Movie Net Income');"
   ]
  },
  {
   "cell_type": "code",
   "execution_count": null,
   "metadata": {},
   "outputs": [],
   "source": [
    "fig,ax = plt.subplots(figsize=(17,5))\n",
    "ax.bar(new_directors['primary_name'],new_directors['net_income'],color='blue')\n",
    "ax.set_xlabel('Director')\n",
    "ax.set_ylabel('Average Movie Net Income (100 Millions USD)')\n",
    "ax.set_title('top 10 Directors by Average Movie Net Income');"
   ]
  },
  {
   "cell_type": "markdown",
   "metadata": {},
   "source": [
    "Genre Data Analysis"
   ]
  },
  {
   "cell_type": "code",
   "execution_count": null,
   "metadata": {},
   "outputs": [],
   "source": [
    "#aggregate new dataframe by singular genres\n",
    "genre_average_df = little_boy_df.groupby(by=\"singular_genres\", as_index=False).mean()"
   ]
  },
  {
   "cell_type": "code",
   "execution_count": null,
   "metadata": {},
   "outputs": [],
   "source": [
    "#sort and save a series of dataframes so that graphs are produced with bars ordered by y-values\n",
    "worldwide_gross = genre_average_df.sort_values(by=\"worldwide_gross\", ascending=False)\n",
    "domestic_gross = genre_average_df.sort_values(by=\"domestic_gross\", ascending=False)\n",
    "foreign_gross = genre_average_df.sort_values(by=\"foreign_market_gross\", ascending=False)\n",
    "worldwide_net = genre_average_df.sort_values(by=\"worldwide_net\", ascending=False)\n",
    "domestic_net = genre_average_df.sort_values(by=\"domestic_net\", ascending=False)\n",
    "foreign_net = genre_average_df.sort_values(by=\"foreign_market_net\", ascending=False)"
   ]
  },
  {
   "cell_type": "code",
   "execution_count": null,
   "metadata": {},
   "outputs": [],
   "source": [
    "#graph of total gross sales vs. genre\n",
    "fig, ax = plt.subplots(figsize=(10,10))\n",
    "\n",
    "x = worldwide_gross[\"singular_genres\"]\n",
    "y = worldwide_gross[\"worldwide_gross\"]\n",
    "\n",
    "ax.bar(x,y)\n",
    "ax.set_title(\"Movie Genres by Average Total Gross Profits\")\n",
    "ax.set_xlabel(\"Genres\")\n",
    "ax.set_ylabel(\"Total Gross Sales (100 Millions USD)\")\n",
    "plt.xticks(rotation=90);"
   ]
  },
  {
   "cell_type": "code",
   "execution_count": null,
   "metadata": {},
   "outputs": [],
   "source": [
    "#graph of total net sales vs. genre\n",
    "fig, ax = plt.subplots(figsize=(10,10))\n",
    "\n",
    "x = worldwide_net[\"singular_genres\"]\n",
    "y = worldwide_net[\"worldwide_net\"]\n",
    "\n",
    "ax.bar(x,y,color='green')\n",
    "ax.set_title(\"Movie Genres by Average Total Net Profits\")\n",
    "ax.set_xlabel(\"Genres\")\n",
    "ax.set_ylabel(\"Total Net Sales (100 Millions USD)\")\n",
    "plt.xticks(rotation=90);"
   ]
  },
  {
   "cell_type": "code",
   "execution_count": null,
   "metadata": {},
   "outputs": [],
   "source": [
    "#graph of domestic gross sales vs. genre\n",
    "fig, ax = plt.subplots(figsize=(10,10))\n",
    "\n",
    "x = domestic_gross[\"singular_genres\"]\n",
    "y = domestic_gross[\"domestic_gross\"]\n",
    "\n",
    "ax.bar(x,y)\n",
    "ax.set_title(\"Movie Genres by Average Domestic Gross Profits\")\n",
    "ax.set_xlabel(\"Genres\")\n",
    "ax.set_ylabel(\"Domestic Gross Sales (100 Millions USD)\")\n",
    "plt.xticks(rotation=90);"
   ]
  },
  {
   "cell_type": "code",
   "execution_count": null,
   "metadata": {},
   "outputs": [],
   "source": [
    "#graph of domestic net sales vs. genre\n",
    "fig, ax = plt.subplots(figsize=(10,10))\n",
    "\n",
    "x = domestic_net[\"singular_genres\"]\n",
    "y = domestic_net[\"domestic_net\"]\n",
    "\n",
    "ax.bar(x,y,color='green')\n",
    "ax.set_title(\"Movie Genres by Average Domestic Net Profits\")\n",
    "ax.set_xlabel(\"Genres\")\n",
    "ax.set_ylabel(\"Domestic Net Sales (100 Millions USD)\")\n",
    "plt.xticks(rotation=90);"
   ]
  },
  {
   "cell_type": "code",
   "execution_count": null,
   "metadata": {},
   "outputs": [],
   "source": [
    "#graph of foreign gross sales vs. genre\n",
    "fig, ax = plt.subplots(figsize=(10,10))\n",
    "\n",
    "x = foreign_gross[\"singular_genres\"]\n",
    "y = foreign_gross[\"foreign_market_gross\"]\n",
    "\n",
    "ax.bar(x,y)\n",
    "ax.set_title(\"Movie Genres by Average Foreign Gross Profits\")\n",
    "ax.set_xlabel(\"Genres\")\n",
    "ax.set_ylabel(\"Foreign Gross Sales (100 Millions USD)\")\n",
    "plt.xticks(rotation=90);"
   ]
  },
  {
   "cell_type": "code",
   "execution_count": null,
   "metadata": {},
   "outputs": [],
   "source": [
    "#graph of foreign net sales vs. genre\n",
    "fig, ax = plt.subplots(figsize=(10,10))\n",
    "\n",
    "x = foreign_net[\"singular_genres\"]\n",
    "y = foreign_net[\"foreign_market_net\"]\n",
    "\n",
    "ax.bar(x,y,color='green')\n",
    "ax.set_title(\"Movie Genres by Average Foreign Net Profits\")\n",
    "ax.set_xlabel(\"Genres\")\n",
    "ax.set_ylabel(\"Foreign Net Sales (100 Millions USD)\")\n",
    "plt.xticks(rotation=90);"
   ]
  },
  {
   "cell_type": "code",
   "execution_count": null,
   "metadata": {},
   "outputs": [],
   "source": [
    "#Market performance comparison chart for gross revenues\n",
    "\n",
    "#variables/data inputs\n",
    "x = genre_average_df[\"singular_genres\"]\n",
    "bar1 = genre_average_df[\"worldwide_gross\"]\n",
    "bar2 = genre_average_df[\"foreign_market_gross\"]\n",
    "bar3 = genre_average_df[\"domestic_gross\"]\n",
    "\n",
    "#formatting\n",
    "barwidth = 0.25\n",
    "r1 = np.arange(len(bar1))\n",
    "r2 = [z + barwidth for z in r1]\n",
    "r3 = [z + barwidth for z in r2]\n",
    "\n",
    "#creating the chart\n",
    "fig = plt.subplots(figsize=(15,15))\n",
    "plt.bar(r1, bar1, color='black', width=barwidth, edgecolor='white', label='Total')\n",
    "plt.bar(r2, bar2, color='red', width=barwidth, edgecolor='white', label='Foreign')\n",
    "plt.bar(r3, bar3, color='blue', width=barwidth, edgecolor='white', label='Domestic')\n",
    "#labelling\n",
    "plt.title(\"Average Gross Sales by Genre in Foreign and Domestic Markets\")\n",
    "plt.xlabel(\"Genres\")\n",
    "plt.ylabel(\"Average Gross Sales by Market (100 Millions USD)\")\n",
    "plt.xticks([a + barwidth for a in range(len(bar1))], x, rotation=90)\n",
    "plt.legend();"
   ]
  },
  {
   "cell_type": "code",
   "execution_count": null,
   "metadata": {},
   "outputs": [],
   "source": [
    "#Market performance comparison chart for net profits\n",
    "\n",
    "#variables/data inputs\n",
    "x = genre_average_df[\"singular_genres\"]\n",
    "bar1 = genre_average_df[\"worldwide_net\"]\n",
    "bar2 = genre_average_df[\"foreign_market_net\"]\n",
    "bar3 = genre_average_df[\"domestic_net\"]\n",
    "\n",
    "#formatting\n",
    "barwidth = 0.25\n",
    "r1 = np.arange(len(bar1))\n",
    "r2 = [z + barwidth for z in r1]\n",
    "r3 = [z + barwidth for z in r2]\n",
    "\n",
    "#creating the chart\n",
    "fig = plt.subplots(figsize=(15,15))\n",
    "plt.bar(r1, bar1, color='brown', width=barwidth, edgecolor='white', label='Total')\n",
    "plt.bar(r2, bar2, color='green', width=barwidth, edgecolor='white', label='Foreign')\n",
    "plt.bar(r3, bar3, color='orange', width=barwidth, edgecolor='white', label='Domestic')\n",
    "#labelling\n",
    "plt.title(\"Average Net Profit by Genre in Foreign and Domestic Markets\")\n",
    "plt.xlabel(\"Genres\")\n",
    "plt.ylabel(\"Average Net Profit by Market (100 Millions USD)\")\n",
    "plt.xticks([a + barwidth for a in range(len(bar1))], x, rotation=90)\n",
    "plt.legend();"
   ]
  },
  {
   "cell_type": "markdown",
   "metadata": {},
   "source": [
    "# Conclusions"
   ]
  },
  {
   "cell_type": "markdown",
   "metadata": {},
   "source": [
    "# Next Steps"
   ]
  },
  {
   "cell_type": "code",
   "execution_count": null,
   "metadata": {},
   "outputs": [],
   "source": []
  }
 ],
 "metadata": {
  "kernelspec": {
   "display_name": "Python (learn-env)",
   "language": "python",
   "name": "learn-env"
  },
  "language_info": {
   "codemirror_mode": {
    "name": "ipython",
    "version": 3
   },
   "file_extension": ".py",
   "mimetype": "text/x-python",
   "name": "python",
   "nbconvert_exporter": "python",
   "pygments_lexer": "ipython3",
   "version": "3.8.5"
  }
 },
 "nbformat": 4,
 "nbformat_minor": 4
}
